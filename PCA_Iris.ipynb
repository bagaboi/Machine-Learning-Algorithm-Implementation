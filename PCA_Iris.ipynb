{
 "cells": [
  {
   "cell_type": "code",
   "execution_count": 15,
   "metadata": {},
   "outputs": [],
   "source": [
    "import pandas as pd\n",
    "import numpy as np\n",
    "import matplotlib.pyplot as plt\n",
    "from sklearn.preprocessing import StandardScaler\n",
    "from sklearn.decomposition import PCA"
   ]
  },
  {
   "cell_type": "code",
   "execution_count": 16,
   "metadata": {},
   "outputs": [],
   "source": [
    "url=\"https://archive.ics.uci.edu/ml/machine-learning-databases/iris/iris.data\"\n",
    "df=pd.read_csv(url,names=['sepal length','sepal width','petal length','petal width','target'])\n",
    "features=['sepal length','sepal width','petal length','petal width']"
   ]
  },
  {
   "cell_type": "code",
   "execution_count": 17,
   "metadata": {},
   "outputs": [
    {
     "name": "stdout",
     "output_type": "stream",
     "text": [
      "   sepal length  sepal width  petal length  petal width       target\n",
      "0           5.1          3.5           1.4          0.2  Iris-setosa\n",
      "1           4.9          3.0           1.4          0.2  Iris-setosa\n",
      "2           4.7          3.2           1.3          0.2  Iris-setosa\n",
      "3           4.6          3.1           1.5          0.2  Iris-setosa\n",
      "4           5.0          3.6           1.4          0.2  Iris-setosa\n"
     ]
    }
   ],
   "source": [
    "print(df.head())"
   ]
  },
  {
   "cell_type": "code",
   "execution_count": 18,
   "metadata": {},
   "outputs": [],
   "source": [
    "x=df.loc[:,features].values\n",
    "y=df.loc[:,['target']].values\n",
    "x=StandardScaler().fit_transform(x)\n",
    "\n",
    "pca=PCA(n_components=2)\n",
    "principal_components=pca.fit_transform(x)\n",
    "principal_component_DF=pd.DataFrame(principal_components,columns=['PC1','PC2'])"
   ]
  },
  {
   "cell_type": "code",
   "execution_count": 19,
   "metadata": {},
   "outputs": [
    {
     "name": "stdout",
     "output_type": "stream",
     "text": [
      "        PC1       PC2\n",
      "0 -2.264542  0.505704\n",
      "1 -2.086426 -0.655405\n",
      "2 -2.367950 -0.318477\n",
      "3 -2.304197 -0.575368\n",
      "4 -2.388777  0.674767\n"
     ]
    }
   ],
   "source": [
    "print(principal_component_DF.head())"
   ]
  },
  {
   "cell_type": "code",
   "execution_count": 20,
   "metadata": {},
   "outputs": [],
   "source": [
    "finalDF=pd.concat([principal_component_DF,df[['target']]],axis=1)"
   ]
  },
  {
   "cell_type": "code",
   "execution_count": 21,
   "metadata": {},
   "outputs": [
    {
     "name": "stdout",
     "output_type": "stream",
     "text": [
      "        PC1       PC2       target\n",
      "0 -2.264542  0.505704  Iris-setosa\n",
      "1 -2.086426 -0.655405  Iris-setosa\n",
      "2 -2.367950 -0.318477  Iris-setosa\n",
      "3 -2.304197 -0.575368  Iris-setosa\n",
      "4 -2.388777  0.674767  Iris-setosa\n"
     ]
    }
   ],
   "source": [
    "print(finalDF.head())"
   ]
  },
  {
   "cell_type": "code",
   "execution_count": 22,
   "metadata": {},
   "outputs": [
    {
     "data": {
      "image/png": "[encoded data removed]",
      "text/plain": [
       "<Figure size 432x288 with 1 Axes>"
      ]
     },
     "metadata": {
      "needs_background": "light"
     },
     "output_type": "display_data"
    }
   ],
   "source": [
    "targets=['Iris-setosa','Iris-versicolor', 'Iris-virginica']\n",
    "colors=['r','g','b']\n",
    "\n",
    "plt.xlabel(\"PC1\")\n",
    "plt.ylabel(\"PC2\")\n",
    "plt.title(\"2 component PCA\")\n",
    "for target,color in zip(targets,colors):\n",
    "    ind=finalDF['target']==target\n",
    "    plt.scatter(finalDF.loc[ind,'PC1'],finalDF.loc[ind,'PC2'],c=color,s=50)\n",
    "plt.show()"
   ]
  }
 ],
 "metadata": {
  "kernelspec": {
   "display_name": "Python 3",
   "language": "python",
   "name": "python3"
  },
  "language_info": {
   "codemirror_mode": {
    "name": "ipython",
    "version": 3
   },
   "file_extension": ".py",
   "mimetype": "text/x-python",
   "name": "python",
   "nbconvert_exporter": "python",
   "pygments_lexer": "ipython3",
   "version": "3.7.1"
  }
 },
 "nbformat": 4,
 "nbformat_minor": 4
}
