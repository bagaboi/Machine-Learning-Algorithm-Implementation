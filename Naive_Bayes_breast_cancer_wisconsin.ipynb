{
 "cells": [
  {
   "cell_type": "markdown",
   "metadata": {},
   "source": [
    "# Implementing Gaussian Naive Bayes from scratch on Breast Cancer Data"
   ]
  },
  {
   "cell_type": "code",
   "execution_count": 6,
   "metadata": {},
   "outputs": [],
   "source": [
    "import pandas as pd\n",
    "import numpy as np\n",
    "import math\n",
    "from sklearn.model_selection import train_test_split\n",
    "from sklearn.metrics import accuracy_score"
   ]
  },
  {
   "cell_type": "markdown",
   "metadata": {},
   "source": [
    "## Function for grouping the data by each class"
   ]
  },
  {
   "cell_type": "code",
   "execution_count": 7,
   "metadata": {},
   "outputs": [],
   "source": [
    "def GroupDataByClass(trainX,trainY):\n",
    "    trainX[\"Class\"]=trainY\n",
    "    C=trainX[\"Class\"].unique()\n",
    "    dataByClass={}\n",
    "    indexByClass={}\n",
    "    for i,row in trainX.iterrows():\n",
    "        if row[\"Class\"] not in indexByClass:\n",
    "            indexByClass[row[\"Class\"]]=[]\n",
    "            indexByClass[row[\"Class\"]].append(i)\n",
    "        else:\n",
    "            indexByClass[row[\"Class\"]].append(i)\n",
    "    for c in C:\n",
    "        inner=trainX.loc[indexByClass[c]]\n",
    "        dataByClass[c]=inner\n",
    "    return dataByClass"
   ]
  },
  {
   "cell_type": "markdown",
   "metadata": {},
   "source": [
    "## Function for training the Naive Bayes classifier\n",
    "Here I am calculating the Prior Probability and dictionary with mean and variances for each feature of data in every class"
   ]
  },
  {
   "cell_type": "code",
   "execution_count": null,
   "metadata": {},
   "outputs": [],
   "source": [
    "def naive_bayes_train(dataByClass,C,features):\n",
    "    Pcs={}\n",
    "    #   calc Prior Probability P(c)\n",
    "    Tc=0\n",
    "    for c in C:\n",
    "        Tc+=len(dataByClass[c])\n",
    "\n",
    "    for c in C:\n",
    "        Nc=len(dataByClass[c])\n",
    "        Pc=Nc/Tc\n",
    "        Pcs[c]=Pc\n",
    "\n",
    "    #   create dictionary for mean and variances for each feature, for every class\n",
    "    info_perClass={}\n",
    "    for c in C:\n",
    "        info={}\n",
    "        for feature in features:\n",
    "            inner=[]\n",
    "            m = mean(dataByClass[c][feature])\n",
    "            v = variance(dataByClass[c][feature])\n",
    "            inner.append(m)\n",
    "            inner.append(v)\n",
    "            info[feature]=inner\n",
    "        info_perClass[c]=info\n",
    "    return info_perClass,Pcs"
   ]
  },
  {
   "cell_type": "markdown",
   "metadata": {},
   "source": [
    "### Calculating the mean of each feature in a given class"
   ]
  },
  {
   "cell_type": "code",
   "execution_count": 9,
   "metadata": {},
   "outputs": [],
   "source": [
    "def mean(listt):\n",
    "    m=0\n",
    "    for l in listt:\n",
    "        m+=l\n",
    "    m=m/float(len(listt))\n",
    "    return m"
   ]
  },
  {
   "cell_type": "markdown",
   "metadata": {},
   "source": [
    "### Calculating the variance of each feature in a given class"
   ]
  },
  {
   "cell_type": "code",
   "execution_count": 10,
   "metadata": {},
   "outputs": [],
   "source": [
    "def variance(listt):\n",
    "    m=sum(listt)/float(len(listt))\n",
    "    variance = sum([pow(x - m, 2) for x in listt]) / float(len(listt) - 1)\n",
    "    return variance"
   ]
  },
  {
   "cell_type": "markdown",
   "metadata": {},
   "source": [
    "## Predicting test data\n",
    "Here, I am predicting the class value of test data with all the features row by row"
   ]
  },
  {
   "cell_type": "code",
   "execution_count": 11,
   "metadata": {},
   "outputs": [],
   "source": [
    "def predict(testX,info,C,features,Pcs):\n",
    "    cValues=[]\n",
    "    for i,row in testX.iterrows():\n",
    "        predC,classprob=predicting(row,info,C,features,Pcs)\n",
    "        cValues.append(predC)\n",
    "    return cValues"
   ]
  },
  {
   "cell_type": "markdown",
   "metadata": {},
   "source": [
    "## Calculating Posterior probability\n",
    "Now for each row, I am calculating the probability of the features in the row, given the class, which in Naive bayes, is the product of the probabilities of individual features of the row of test data"
   ]
  },
  {
   "cell_type": "code",
   "execution_count": 12,
   "metadata": {},
   "outputs": [],
   "source": [
    "def predicting(row,info,C,features,Pcs):\n",
    "    predC=C[0]\n",
    "    maxprob=0\n",
    "    for c in C:\n",
    "        probs = 1\n",
    "        for feature in features:\n",
    "            exponent=math.exp(-(math.pow(row[feature]-info[c][feature][0],2)))/(2*info[c][feature][1])\n",
    "            prob=(1/(math.sqrt(2*math.pi*info[c][feature][1])))*exponent\n",
    "            probs*=prob\n",
    "        probs*=Pcs[c]\n",
    "        if probs>maxprob:\n",
    "            maxprob=probs\n",
    "            predC=c\n",
    "    return predC,maxprob"
   ]
  },
  {
   "cell_type": "markdown",
   "metadata": {},
   "source": [
    "## Starting the Main Function by reading the data into a Pandas Dataframe"
   ]
  },
  {
   "cell_type": "code",
   "execution_count": 13,
   "metadata": {},
   "outputs": [],
   "source": [
    "url=\"https://archive.ics.uci.edu/ml/machine-learning-databases/breast-cancer-wisconsin/breast-cancer-wisconsin.data\"\n",
    "data=pd.read_csv(url,names=[\"Sample code number\",\"Clump Thickness\",\"Uniformity of Cell Size\",\"Uniformity of Cell Shape\",\"Marginal Adhesion\",\"Single Epithelial Cell Size\",\"Bare Nuclei\",\"Bland Chromatin\",\"Normal Nucleoli\",\"Mitoses\",\"Class\"])"
   ]
  },
  {
   "cell_type": "markdown",
   "metadata": {},
   "source": [
    "## Preprocessing the data\n",
    "Here I am transforming the Bare Nuclei attribute of the Breast Cancer data from string to int and creating a new Pandas Dataframe"
   ]
  },
  {
   "cell_type": "code",
   "execution_count": 14,
   "metadata": {},
   "outputs": [],
   "source": [
    "#Preprocessing the data because the column Bare Nuclei is string type\n",
    "features=[\"Clump Thickness\",\"Uniformity of Cell Size\",\"Uniformity of Cell Shape\",\"Marginal Adhesion\",\"Single Epithelial Cell Size\",\"Bare Nuclei\",\"Bland Chromatin\",\"Normal Nucleoli\",\"Mitoses\"]\n",
    "features_withoutBareNucei=[\"Clump Thickness\",\"Uniformity of Cell Size\",\"Uniformity of Cell Shape\",\"Marginal Adhesion\",\"Single Epithelial Cell Size\",\"Bland Chromatin\",\"Normal Nucleoli\",\"Mitoses\",\"Class\"]\n",
    "predictor=[\"Class\"]\n",
    "\n",
    "right_data=data.loc[data[\"Bare Nuclei\"]!=\"?\",features_withoutBareNucei]\n",
    "temp_data=data.loc[data[\"Bare Nuclei\"]!=\"?\",[\"Bare Nuclei\"]]\n",
    "\n",
    "right_data[\"Bare Nuclei\"]=temp_data[\"Bare Nuclei\"].apply(np.int64)"
   ]
  },
  {
   "cell_type": "markdown",
   "metadata": {},
   "source": [
    "## Splitting data\n",
    "Then I split the data into training and testing data with 80% to training data and 20% of testing data"
   ]
  },
  {
   "cell_type": "code",
   "execution_count": 15,
   "metadata": {},
   "outputs": [],
   "source": [
    "C=right_data[\"Class\"].unique()\n",
    "trainX,testX,trainY,testY=train_test_split(right_data[features],right_data[predictor].values.ravel(),test_size=0.20,random_state=1)"
   ]
  },
  {
   "cell_type": "markdown",
   "metadata": {},
   "source": [
    "## Training and Testing the Data using Gaussian Naive Bayes Classifier and checking the accuracy of the model"
   ]
  },
  {
   "cell_type": "code",
   "execution_count": 17,
   "metadata": {},
   "outputs": [
    {
     "name": "stdout",
     "output_type": "stream",
     "text": [
      "Accuracy Score 0.9635036496350365\n"
     ]
    }
   ],
   "source": [
    "dataByClass=GroupDataByClass(trainX,trainY)\n",
    "info,Pcs=naive_bayes_train(dataByClass,C,features)\n",
    "\n",
    "predY=predict(testX,info,C,features,Pcs)\n",
    "\n",
    "\n",
    "print(\"Accuracy Score\",accuracy_score(testY,predY))"
   ]
  }
 ],
 "metadata": {
  "kernelspec": {
   "display_name": "Python 3",
   "language": "python",
   "name": "python3"
  },
  "language_info": {
   "codemirror_mode": {
    "name": "ipython",
    "version": 3
   },
   "file_extension": ".py",
   "mimetype": "text/x-python",
   "name": "python",
   "nbconvert_exporter": "python",
   "pygments_lexer": "ipython3",
   "version": "3.7.1"
  }
 },
 "nbformat": 4,
 "nbformat_minor": 4
}
